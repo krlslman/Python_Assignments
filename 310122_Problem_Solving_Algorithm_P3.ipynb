{
  "nbformat": 4,
  "nbformat_minor": 0,
  "metadata": {
    "colab": {
      "name": "310122_Problem-Solving-Algorithm_P3.ipynb",
      "provenance": [],
      "collapsed_sections": [],
      "authorship_tag": "ABX9TyOL/ZRAWno1lQmLwqDJv/hA",
      "include_colab_link": true
    },
    "kernelspec": {
      "name": "python3",
      "display_name": "Python 3"
    },
    "language_info": {
      "name": "python"
    }
  },
  "cells": [
    {
      "cell_type": "markdown",
      "metadata": {
        "id": "view-in-github",
        "colab_type": "text"
      },
      "source": [
        "<a href=\"https://colab.research.google.com/github/krlslman/Python_Assignments/blob/main/310122_Problem_Solving_Algorithm_P3.ipynb\" target=\"_parent\"><img src=\"https://colab.research.google.com/assets/colab-badge.svg\" alt=\"Open In Colab\"/></a>"
      ]
    },
    {
      "cell_type": "code",
      "execution_count": null,
      "metadata": {
        "id": "EXrsRuf7QL1f"
      },
      "outputs": [],
      "source": [
        "\"\"\"\n",
        "Created on Mon Jan 31 20:01:20 2022\n",
        "\n",
        "@author: koral007\n",
        "\"\"\"\n",
        "\n",
        "#Problem solving FLOWCHART: https://gitmind.com/app/flowchart/9f78249438\n",
        "\n",
        "q1 = str(input(\"DOES IT WORK? (yes/no) : \")).lower().strip()\n",
        "if q1 == 'yes':\n",
        "    q2 = str(input(\"MESS WITH IT? (yes/no) : \")).lower().strip()\n",
        "    if q2 == 'yes':\n",
        "       print(\"\\nYOU IDIOT! \") #q3\n",
        "       q6 = str(input(\"DOES ANYONE KNOW? (yes/no) : \")).lower().strip()\n",
        "       if q6 == 'yes':\n",
        "           print(\"\\nYOU POOR IDIOT! \") #q7\n",
        "           while True:\n",
        "               q9 = str(input(\"CAN YOU BLAME SOMEONE ELSE? (yes/no) : \")).lower().strip()\n",
        "               if q9 == 'yes':\n",
        "                   print('N O  P R O B L E M ;)')\n",
        "                   break\n",
        "               else:\n",
        "                   print(\"\\nYOU POOR IDIOT! \") #q7\n",
        "       else: #q6\n",
        "           print('N O  P R O B L E M ;)')                        \n",
        "    else: #q2\n",
        "        print('N O  P R O B L E M ;)')\n",
        "            \n",
        "           \n",
        "else:\n",
        "    q4 = str(input(\"DO YOU MESS WITH IT? (yes/no) : \")).lower().strip()\n",
        "    if q4=='yes':\n",
        "       print(\"\\nYOU IDIOT! \") #q3\n",
        "       q6 = str(input(\"DOES ANYONE KNOW? (yes/no) : \")).lower().strip()\n",
        "       if q6 == 'yes':\n",
        "           print(\"\\nYOU POOR IDIOT! \") #q7\n",
        "           while True:\n",
        "               q9 = str(input(\"CAN YOU BLAME SOMEONE ELSE? (yes/no) : \")).lower().strip()\n",
        "               if q9 == 'yes':\n",
        "                   print('N O  P R O B L E M ;)')\n",
        "                   break\n",
        "               else:\n",
        "                   print(\"\\nYOU POOR IDIOT! \") #q7\n",
        "       else: #q6\n",
        "           print('N O  P R O B L E M ;)')\n",
        "           \n",
        "    else: #q4\n",
        "        q8 = str(input(\"WILL YOU GET INTO TROUBLE? (yes/no) : \")).lower().strip()\n",
        "        if q8 == 'yes':\n",
        "            print(\"\\nYOU POOR IDIOT! \") #q7\n",
        "            while True:\n",
        "                q9 = str(input(\"CAN YOU BLAME SOMEONE ELSE? (yes/no) : \")).lower().strip()\n",
        "                if q9 == 'yes':\n",
        "                    print('N O  P R O B L E M ;)')\n",
        "                    break\n",
        "                else:\n",
        "                    print(\"\\nYOU POOR IDIOT! \") #q7\n",
        "        else: #q10\n",
        "            print(\"TRASH IT\")            \n",
        "            print('N O  P R O B L E M ;)')"
      ]
    }
  ]
}