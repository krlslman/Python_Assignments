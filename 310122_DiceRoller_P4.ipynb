{
  "nbformat": 4,
  "nbformat_minor": 0,
  "metadata": {
    "colab": {
      "name": "310122_DiceRoller_P4.ipynb",
      "provenance": [],
      "collapsed_sections": [],
      "authorship_tag": "ABX9TyN4RyfKJaIM9Ts89l9KFf6i",
      "include_colab_link": true
    },
    "kernelspec": {
      "name": "python3",
      "display_name": "Python 3"
    },
    "language_info": {
      "name": "python"
    }
  },
  "cells": [
    {
      "cell_type": "markdown",
      "metadata": {
        "id": "view-in-github",
        "colab_type": "text"
      },
      "source": [
        "<a href=\"https://colab.research.google.com/github/krlslman/Python_Assignments/blob/main/310122_DiceRoller_P4.ipynb\" target=\"_parent\"><img src=\"https://colab.research.google.com/assets/colab-badge.svg\" alt=\"Open In Colab\"/></a>"
      ]
    },
    {
      "cell_type": "code",
      "execution_count": 4,
      "metadata": {
        "colab": {
          "base_uri": "https://localhost:8080/"
        },
        "id": "SVRVTaiFnlBb",
        "outputId": "90c0fcfc-a1d3-451e-f1f7-47aa4adcb5b7"
      },
      "outputs": [
        {
          "output_type": "stream",
          "name": "stdout",
          "text": [
            "Welcome to Dice Roller\n",
            "---dicing---   \n",
            "6\n",
            "Would you like to roll dice again?  (y/n)  : y\n",
            "---dicing---   \n",
            "1\n",
            "Would you like to roll dice again?  (y/n)  : y\n",
            "---dicing---   \n",
            "4\n",
            "Would you like to roll dice again?  (y/n)  : n\n",
            "See you again :(\n"
          ]
        }
      ],
      "source": [
        "#P4_310122_Dice-Rolling-Simulator FLOWCHART : https://gitmind.com/app/flowchart/d3f8249706\n",
        "import random\n",
        "import time\n",
        "\n",
        "print(\"Welcome to Dice Roller\")\n",
        "\n",
        "while True:\n",
        "    print(\"---dicing---   \")\n",
        "    time.sleep(1.2)\n",
        "    rand = random.randint(1,6)\n",
        "    print(rand) # test\n",
        "    answer = str(input(\"Would you like to roll dice again?  (y/n)  : \"))\n",
        "    if answer == 'n':\n",
        "        print(\"See you again :(\")\n",
        "        break\n",
        "\n",
        "\n"
      ]
    }
  ]
}