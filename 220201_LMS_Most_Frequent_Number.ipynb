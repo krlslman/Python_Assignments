{
  "nbformat": 4,
  "nbformat_minor": 0,
  "metadata": {
    "colab": {
      "name": "220201_LMS_Most-Frequent-Number.ipynb",
      "provenance": [],
      "collapsed_sections": [],
      "authorship_tag": "ABX9TyM2JdxhFtGArBjs3OgKL+qy",
      "include_colab_link": true
    },
    "kernelspec": {
      "name": "python3",
      "display_name": "Python 3"
    },
    "language_info": {
      "name": "python"
    }
  },
  "cells": [
    {
      "cell_type": "markdown",
      "metadata": {
        "id": "view-in-github",
        "colab_type": "text"
      },
      "source": [
        "<a href=\"https://colab.research.google.com/github/krlslman/Python_Assignments/blob/main/220201_LMS_Most_Frequent_Number.ipynb\" target=\"_parent\"><img src=\"https://colab.research.google.com/assets/colab-badge.svg\" alt=\"Open In Colab\"/></a>"
      ]
    },
    {
      "cell_type": "markdown",
      "source": [
        "Finds out the most frequent number in the given list.\n",
        "\n",
        "Calculates its frequency.\n",
        "Prints out the result such as :  \n",
        "\n",
        "the most frequent number is 3 and it was 4 times repeated\n",
        "\n",
        "Given list;\n",
        "numbers = [1, 3, 7, 4, 3, 0, 3, 6, 3]"
      ],
      "metadata": {
        "id": "LRC0s5EiNUrZ"
      }
    },
    {
      "cell_type": "code",
      "execution_count": 11,
      "metadata": {
        "colab": {
          "base_uri": "https://localhost:8080/"
        },
        "id": "MxXUI8hdMvdA",
        "outputId": "73c7c981-8357-47d8-976a-92f305440d40"
      },
      "outputs": [
        {
          "output_type": "stream",
          "name": "stdout",
          "text": [
            "Solution 1 ;\t\tthe most frequent number is 3 and it was 4 times repeated \n",
            "Solution 2 ;\t\tthe most frequent number is 3 and it was 4 times repeated \n"
          ]
        }
      ],
      "source": [
        "#FLOW-CHART : https://gitmind.com/app/flowchart/9588255749\n",
        "\n",
        "#---------- SOLUTION 1 -------optional -----------------\n",
        "from collections import Counter\n",
        "numbers = [1, 3, 7, 4, 3, 0, 3, 6, 3]\n",
        "c = Counter(numbers)\n",
        "c.most_common(1)\n",
        "list=c.most_common(1)\n",
        "num=list[0][0]\n",
        "rep=list[0][1]\n",
        "\n",
        "print(\"Solution 1 ;\",end=\"\\t\")\n",
        "print(f\"\\tthe most frequent number is {num} and it was {rep} times repeated \")\n",
        "\n",
        "#---------- SOLUTION 2 -------essential -----------------\n",
        "numbers = [1, 3, 7, 4, 3, 0, 3, 6, 3]\n",
        "#rep=0\n",
        "#pre_rep=0\n",
        "#num=0\n",
        "for i in numbers:\n",
        "    # print(i)  # test\n",
        "    #print(numbers.count(i)) # test\n",
        "    rep=numbers.count(i)   \n",
        "    if rep>pre_rep:\n",
        "        pre_rep=rep\n",
        "        num=i\n",
        "print(\"Solution 2 ;\",end=\"\\t\")\n",
        "print(f\"\\tthe most frequent number is {num} and it was {rep} times repeated \")     "
      ]
    },
    {
      "cell_type": "code",
      "source": [
        ""
      ],
      "metadata": {
        "id": "slKT99k7cjvi"
      },
      "execution_count": null,
      "outputs": []
    },
    {
      "cell_type": "code",
      "source": [
        ""
      ],
      "metadata": {
        "id": "p1yZKaC4bCym"
      },
      "execution_count": null,
      "outputs": []
    }
  ]
}