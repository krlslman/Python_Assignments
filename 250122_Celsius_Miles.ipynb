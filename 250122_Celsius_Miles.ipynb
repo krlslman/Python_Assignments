{
  "nbformat": 4,
  "nbformat_minor": 0,
  "metadata": {
    "colab": {
      "name": "250122_Celsius_Miles.ipynb",
      "provenance": [],
      "collapsed_sections": [],
      "authorship_tag": "ABX9TyNZIe/j9+Qj/SXVYJYxxpgS",
      "include_colab_link": true
    },
    "kernelspec": {
      "name": "python3",
      "display_name": "Python 3"
    },
    "language_info": {
      "name": "python"
    }
  },
  "cells": [
    {
      "cell_type": "markdown",
      "metadata": {
        "id": "view-in-github",
        "colab_type": "text"
      },
      "source": [
        "<a href=\"https://colab.research.google.com/github/krlslman/Python_Assignments/blob/main/250122_Celsius_Miles.ipynb\" target=\"_parent\"><img src=\"https://colab.research.google.com/assets/colab-badge.svg\" alt=\"Open In Colab\"/></a>"
      ]
    },
    {
      "cell_type": "markdown",
      "source": [
        "**Task-1**:\n",
        "\n",
        "Write a short Python program that asks the *user* to enter **Celsius** temperature (it can be a decimal  number), converts the entered temperature into **Fahrenheit** degree and prints the result."
      ],
      "metadata": {
        "id": "33unD46nv4FE"
      }
    },
    {
      "cell_type": "code",
      "execution_count": null,
      "metadata": {
        "id": "M60WtVUtvhy7"
      },
      "outputs": [],
      "source": [
        "convert_way=int(input(\"\"\"TASK 1 \n",
        "                     Press 0 to convert from CELSIUS to FAHRENHEIT \n",
        "                     Press 1 to convert from FAHRENHEIT to CELSIUS : \"\"\"))\n",
        "if convert_way==0:\n",
        "    var_c = int(input(\"Enter CELSIUS Temperature : \"))\n",
        "    #print(type.var_c)\n",
        "    var_t = (var_c*1.8)+32\n",
        "    print(var_c,\"C = \",var_t,\"F\")\n",
        "elif convert_way==1:\n",
        "    var_t = int(input(\"Enter FAHRENHEIT Temperature : \"))\n",
        "    var_c = (var_t-32)/1.8\n",
        "    print(var_t,\"F = \",var_c,\"C\")   \n",
        "else:\n",
        "    print(\"Hatalı tuşlama yaptınız\")"
      ]
    },
    {
      "cell_type": "markdown",
      "source": [
        "**Task-2**\n",
        "\n",
        "Write a short Python program that asks the *user* to enter a distance (it can be a decimal number) in **kilometers**, converts the entered distance into **miles** and prints the result."
      ],
      "metadata": {
        "id": "SShrmQ6Yv-Jc"
      }
    },
    {
      "cell_type": "code",
      "source": [
        "convert_mile=int(input(\"\"\"TASK 2\n",
        "                     Press 0 to convert from KM to MILE \n",
        "                     Press 1 to convert from MILE to KM : \"\"\"))\n",
        "if convert_mile==0:\n",
        "    var_km = int(input(\"Enter KM  : \"))\n",
        "    var_mile = var_km * 0.62137\n",
        "    print(var_km,\"km = \",var_mile,\"mile\")\n",
        "elif convert_mile==1:\n",
        "    var_mile = int(input(\"Enter MILE : \"))\n",
        "    var_km = var_mile * 1.609344\n",
        "    print(var_km,\"km = \",var_mile,\"mile\") \n",
        "else:\n",
        "    print(\"Hatalı tuşlama yaptınız\")"
      ],
      "metadata": {
        "id": "Y9ZyTXeowBUM"
      },
      "execution_count": null,
      "outputs": []
    },
    {
      "cell_type": "markdown",
      "source": [
        "TOGETHER:"
      ],
      "metadata": {
        "id": "eKcfmtB_wCTg"
      }
    },
    {
      "cell_type": "code",
      "source": [
        "print(\"WELCOME!  :)\")\n",
        "while True:\n",
        "start_q = int(input(\"\"\"Press 0 to convert METRIC Conversions\n",
        "Press 1 to convert TEMPERATURE Conversions \\t  : \"\"\"))\n",
        "\n",
        "if start_q==0:\n",
        "    convert_way=int(input(\"\"\"TASK 1 **********\n",
        "    Press 0 to convert from CELSIUS to FAHRENHEIT\n",
        "    Press 1 to convert from FAHRENHEIT to CELSIUS : \"\"\"))\n",
        "    if convert_way==0:\n",
        "        var_c = int(input(\"Enter CELSIUS Temperature : \"))\n",
        "        var_t = (var_c*1.8)+32\n",
        "        print(var_c,\"C = \",var_t,\"F \\\\t <<<<<<<<<<<<<<<\")\n",
        "    elif convert_way==1:\n",
        "        var_t = int(input(\"Enter FAHRENHEIT Temperature : \"))\n",
        "        var_c = (var_t-32)/1.8\n",
        "        print(var_t,\"F = \",var_c,\"C \\\\t <<<<<<<<<<<<<<<\")\n",
        "    else:\n",
        "        print(\"Hatalı tuşlama yaptınız\")\n",
        "\n",
        "elif start_q==1:\n",
        "    convert_mile=int(input(\"\"\"TASK 2 **********\n",
        "    Press 0 to convert from KM to MILE\n",
        "    Press 1 to convert from MILE to KM : \"\"\"))\n",
        "    if convert_mile==0:\n",
        "        var_km = int(input(\"Enter KM  : \"))\n",
        "        var_mile = var_km * 0.62137\n",
        "        print(var_km,\"km = \",var_mile,\"mile \\\\t <<<<<<<<<<<<<<<\")\n",
        "    elif convert_mile==1:\n",
        "        var_mile = int(input(\"Enter MILE : \"))\n",
        "        var_km = var_mile * 1.609344\n",
        "        print(var_km,\"km = \",var_mile,\"mile \\\\t <<<<<<<<<<<<<<<\")\n",
        "    else:\n",
        "        print(\"Hatalı tuşlama yaptınız\")\n",
        "else:\n",
        "    print(\"Hatalı tuşlama yaptınız\")\n"
      ],
      "metadata": {
        "id": "EDKKCiBRwEUm"
      },
      "execution_count": null,
      "outputs": []
    }
  ]
}