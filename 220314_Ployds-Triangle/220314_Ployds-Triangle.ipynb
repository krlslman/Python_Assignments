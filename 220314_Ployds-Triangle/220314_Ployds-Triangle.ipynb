{
 "cells": [
  {
   "cell_type": "code",
   "execution_count": 1,
   "metadata": {},
   "outputs": [
    {
     "name": "stdout",
     "output_type": "stream",
     "text": [
      "1   \n",
      "2   3   \n",
      "4   5   6   \n",
      "7   8   9   10  \n",
      "11  12  13  14  15  \n",
      "16  17  18  19  20  21  \n",
      "22  23  24  25  26  27  28  \n",
      "29  30  31  32  33  34  35  36  \n",
      "37  38  39  40  41  42  43  44  45  \n",
      "46  47  48  49  50  51  52  53  54  55  \n"
     ]
    }
   ],
   "source": [
    "row_input = 10 #int(input(\"Enter the number of rows : \"))\n",
    "num = 1\n",
    "for i in range(1,row_input+1):\n",
    "\tfor j in range(i):\n",
    "\t\tprint(str(num).ljust(4), end=\"\") #\n",
    "\t\tnum += 1\n",
    "\tprint()"
   ]
  }
 ],
 "metadata": {
  "interpreter": {
   "hash": "b3ba2566441a7c06988d0923437866b63cedc61552a5af99d1f4fb67d367b25f"
  },
  "kernelspec": {
   "display_name": "Python 3.9.7 ('base')",
   "language": "python",
   "name": "python3"
  },
  "language_info": {
   "codemirror_mode": {
    "name": "ipython",
    "version": 3
   },
   "file_extension": ".py",
   "mimetype": "text/x-python",
   "name": "python",
   "nbconvert_exporter": "python",
   "pygments_lexer": "ipython3",
   "version": "3.9.7"
  },
  "orig_nbformat": 4
 },
 "nbformat": 4,
 "nbformat_minor": 2
}
