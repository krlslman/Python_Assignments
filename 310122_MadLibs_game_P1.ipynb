{
  "nbformat": 4,
  "nbformat_minor": 0,
  "metadata": {
    "colab": {
      "name": "310122_MadLibs_game_P1.ipynb",
      "provenance": [],
      "collapsed_sections": [],
      "authorship_tag": "ABX9TyMbcRfLz7haTjGZkfKI/Xab",
      "include_colab_link": true
    },
    "kernelspec": {
      "name": "python3",
      "display_name": "Python 3"
    },
    "language_info": {
      "name": "python"
    }
  },
  "cells": [
    {
      "cell_type": "markdown",
      "metadata": {
        "id": "view-in-github",
        "colab_type": "text"
      },
      "source": [
        "<a href=\"https://colab.research.google.com/github/krlslman/Python_Assignments/blob/main/310122_MadLibs_game_P1.ipynb\" target=\"_parent\"><img src=\"https://colab.research.google.com/assets/colab-badge.svg\" alt=\"Open In Colab\"/></a>"
      ]
    },
    {
      "cell_type": "code",
      "execution_count": null,
      "metadata": {
        "id": "EQh7FdtXBeLk"
      },
      "outputs": [],
      "source": [
        "\n",
        "# Why to play Mad Libs?  -Because it boosts the communication and connection among the team\n",
        "# Why it is funny?  -Because everyone contributes to this silly stories.\n",
        "\n",
        "adjective=str(input(\"Please enter an  adjective : \"))\n",
        "animal=str(input(\"Please enter an  animal : \"))\n",
        "ride=str(input(\"Please enter  something you would ride in : \"))\n",
        "verb=str(input(\"Please enter a  verb : \"))\n",
        "color=str(input(\"Please enter a  color : \"))\n",
        "noun=str(input(\"Please enter a  noun : \"))\n",
        "foods=str(input(\"Please enter foods(pulural) : \"))\n",
        "foods2=str(input(\"Please enter an  foods(pulural) : \"))\n",
        "person=str(input(\"Please enter a person name: \"))\n",
        "saying=str(input(\"Please enter a saying : \"))\n",
        "\n",
        "print (f\"\\n Today I went to my favorite Taco Stand called the {adjective} {animal}.\")    \n",
        "print(f\"Unlike most food stands, they cook and prepare the food in a {ride} while you {verb}. \")\n",
        "print(f\"The best thing on the menu is the {color} {noun}. Instead of ground beef they fill the taco\" )\n",
        "print(f\"with {foods}, cheese, and top it off with a salsa made from {foods2}. If that doesn't make your\")\n",
        "print(f\"mouth water, then it' just like {person} always says: {saying}!\")\n"
      ]
    }
  ]
}