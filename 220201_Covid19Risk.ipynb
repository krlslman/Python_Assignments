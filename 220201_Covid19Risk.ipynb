{
  "nbformat": 4,
  "nbformat_minor": 0,
  "metadata": {
    "colab": {
      "name": "040222_Covid19Risk.ipynb",
      "provenance": [],
      "collapsed_sections": [],
      "authorship_tag": "ABX9TyNIV/Zx+VZx2tBAGvaqQgUc",
      "include_colab_link": true
    },
    "kernelspec": {
      "name": "python3",
      "display_name": "Python 3"
    },
    "language_info": {
      "name": "python"
    }
  },
  "cells": [
    {
      "cell_type": "markdown",
      "metadata": {
        "id": "view-in-github",
        "colab_type": "text"
      },
      "source": [
        "<a href=\"https://colab.research.google.com/github/krlslman/Python_Assignments/blob/main/040222_Covid19Risk.ipynb\" target=\"_parent\"><img src=\"https://colab.research.google.com/assets/colab-badge.svg\" alt=\"Open In Colab\"/></a>"
      ]
    },
    {
      "cell_type": "markdown",
      "source": [
        "**Problem** :\n",
        "**Task\t:** Estimating the risk of death from ***coronavirus***.\n",
        "Consider\tthe following questions in terms of `True`/`False` regarding\tanyone else.\n",
        "\n",
        "- Are\tyou a **cigarette** addict\tolder than **75** years\told? Variable → `age`\n",
        "- Do\tyou have a **severe** chronic\tdisease? Variable → `chronic`\n",
        "- Is\tyour **immune** system **too\tweak**?\tVariable → `immune`\n",
        "\n",
        "Set a logical algorithm using boolean logic operators (`and`/`or`) and the given variables in order to give us `True` (there is a risk of death) or `False` (there is not a risk of death) as a result.\n",
        "age =  # can be assigned only True/False\n",
        "chronic =  # can be assigned only True/False\n",
        "immune =  # can be assigned only True/False\n",
        "risk = ? (True or False)"
      ],
      "metadata": {
        "id": "DSZ_poF4yNZ2"
      }
    },
    {
      "cell_type": "markdown",
      "source": [
        "ANSWER;\n",
        "\n",
        "(Flow-chart : https://gitmind.com/app/flowchart/fe08174485  )"
      ],
      "metadata": {
        "id": "UtVt5mdvyYbw"
      }
    },
    {
      "cell_type": "code",
      "source": [
        "age=str(input(\"Are you a cigarette \\\n",
        "addict older than 75 yes old? (Y/N) : \"))\n",
        "#-----------assign age-------------------------------\n",
        "if age =='Y'or age =='y':\n",
        "    age = True\n",
        "elif age == 'n':\n",
        "    age=False\n",
        "else:\n",
        "    print(\"typographical error\")\n",
        "#-----------assign chronic---------------------------\n",
        "chronic=str(input(\"Any severe chronic desease? (Y/N) : \"))        \n",
        "if chronic =='Y'or chronic =='y':\n",
        "    chronic = True\n",
        "elif chronic == 'N' or 'n':\n",
        "    chronic=False\n",
        "else:\n",
        "    print(\"typographical error\") \n",
        "#-----------assign immune----------------------------\n",
        "immune=str(input(\"Is your immune system too weak? (Y/N) : \"))        \n",
        "if immune =='Y'or immune =='y':\n",
        "    immune = True\n",
        "elif immune == 'N' or 'n':\n",
        "    immune=False\n",
        "else:\n",
        "    print(\"typographical error\") \n",
        "    \n",
        "#print(immune)\n",
        "#-----------assign risk------------------------------    \n",
        "if (age or chronic or immune) ==True:\n",
        "    risk=True \n",
        "else:\n",
        "    risk=False    \n",
        "#-----------print risk------------------------------         \n",
        "if risk == True:\n",
        "    print(\"Calculated risk of death  :  HIGH\")  \n",
        "else:\n",
        "    print(\"Calculated risk of death  :  LOW\")"
      ],
      "metadata": {
        "colab": {
          "base_uri": "https://localhost:8080/"
        },
        "id": "GfmBvMa_ygJr",
        "outputId": "2c285c98-9596-45a8-eabb-182eea5a5594"
      },
      "execution_count": 4,
      "outputs": [
        {
          "output_type": "stream",
          "name": "stdout",
          "text": [
            "Are you a cigarette addict older than 75 yes old? (Y/N) : y\n",
            "Any severe chronic desease? (Y/N) : n\n",
            "Is your immune system too weak? (Y/N) : n\n",
            "Calculated risk of death  :  HIGH\n"
          ]
        }
      ]
    }
  ]
}
