{
  "nbformat": 4,
  "nbformat_minor": 0,
  "metadata": {
    "colab": {
      "name": "180122_pseudocode",
      "provenance": [],
      "collapsed_sections": [],
      "include_colab_link": true
    },
    "kernelspec": {
      "name": "python3",
      "display_name": "Python 3"
    },
    "language_info": {
      "name": "python"
    }
  },
  "cells": [
    {
      "cell_type": "markdown",
      "metadata": {
        "id": "view-in-github",
        "colab_type": "text"
      },
      "source": [
        "<a href=\"https://colab.research.google.com/github/krlslman/Python_Assignments/blob/main/180122_pseudocode.ipynb\" target=\"_parent\"><img src=\"https://colab.research.google.com/assets/colab-badge.svg\" alt=\"Open In Colab\"/></a>"
      ]
    },
    {
      "cell_type": "code",
      "execution_count": null,
      "metadata": {
        "id": "gFT6cS9rVs5U"
      },
      "outputs": [],
      "source": [
        ""
      ]
    },
    {
      "cell_type": "markdown",
      "source": [
        "# 18.01.2021\n",
        "\n",
        "**Practice 1: Write a pseudocode that reads two numbers and multiplies them together and print out their product:**\n",
        "\n",
        "INPUT number1 and number2\n",
        "\n",
        "multiply = number1 * number2\n",
        "\n",
        "PRINT multiply"
      ],
      "metadata": {
        "id": "34XTjf4IV2ee"
      }
    },
    {
      "cell_type": "markdown",
      "source": [
        "**Practice 2: Write a pseudocode that tells a user that the number they entered is not a 5 or a 6.**\n",
        "\n",
        "INPUT number1\n",
        "\n",
        "IF number1 = 5\n",
        "\n",
        "PRINT   “your number is 5”\n",
        "\n",
        "ELSE IF number1 = 6\n",
        "\n",
        "PRINT “your number is 6”\n",
        "\n",
        "ELSE\n",
        "\n",
        "PRINT “Y our number is not 5 or 6\""
      ],
      "metadata": {
        "id": "VjDnFAA7WBOQ"
      }
    },
    {
      "cell_type": "markdown",
      "source": [
        "**Practice 3: Write a pseudocode to print all multiples of 5 between 0 and 100 (including both 0 and 100).**\n",
        "\n",
        "SET i=0\n",
        "\n",
        "For i = 0 To 100\n",
        "\n",
        "i *=5\n",
        "\n",
        "Next i\n",
        "\n",
        "PRINT i"
      ],
      "metadata": {
        "id": "7RebY6PcWZf2"
      }
    }
  ]
}
