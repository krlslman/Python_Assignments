{
  "nbformat": 4,
  "nbformat_minor": 0,
  "metadata": {
    "colab": {
      "name": "220209_Desktop-Notification-Eye.ipynb",
      "provenance": [],
      "collapsed_sections": [],
      "authorship_tag": "ABX9TyO/fqB/vpRAIFPxkceQoheM"
    },
    "kernelspec": {
      "name": "python3",
      "display_name": "Python 3"
    },
    "language_info": {
      "name": "python"
    }
  },
  "cells": [
    {
      "cell_type": "code",
      "execution_count": null,
      "metadata": {
        "id": "M4f9MRvqOOUu"
      },
      "outputs": [],
      "source": [
        "from plyer import notification\n",
        "import time\n",
        "\n",
        "def notify_me(title, message):\n",
        "\tnotification.notify(\n",
        "\t\ttitle = title, \n",
        "\t\tmessage = message,\n",
        "\t\tapp_icon = \"/home/koral007/Downloads/clock.png\",\n",
        "\t\ttimeout = 8,\n",
        "\t)\n",
        "\n",
        "\n",
        "if __name__ == '__main__':\n",
        "\twhile True:\n",
        "\t\tnotify_me(\"\\tHeyy Koral, take a break now!\", \"20\\\\20\\\\20 rule to keep your eyes healthy.\")\n",
        "\t\ttime.sleep(60*20)"
      ]
    }
  ]
}