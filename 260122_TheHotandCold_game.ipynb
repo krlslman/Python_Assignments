{
  "nbformat": 4,
  "nbformat_minor": 0,
  "metadata": {
    "colab": {
      "name": "260122_TheHotandCold_game.ipynb",
      "provenance": [],
      "collapsed_sections": [],
      "authorship_tag": "ABX9TyPmD/k/Nq2+w+kA1Xbp89l6",
      "include_colab_link": true
    },
    "kernelspec": {
      "name": "python3",
      "display_name": "Python 3"
    },
    "language_info": {
      "name": "python"
    }
  },
  "cells": [
    {
      "cell_type": "markdown",
      "metadata": {
        "id": "view-in-github",
        "colab_type": "text"
      },
      "source": [
        "<a href=\"https://colab.research.google.com/github/krlslman/Python_Assignments/blob/main/260122_TheHotandCold_game.ipynb\" target=\"_parent\"><img src=\"https://colab.research.google.com/assets/colab-badge.svg\" alt=\"Open In Colab\"/></a>"
      ]
    },
    {
      "cell_type": "code",
      "execution_count": null,
      "metadata": {
        "colab": {
          "base_uri": "https://localhost:8080/"
        },
        "id": "ywRs0F5gh3S4",
        "outputId": "7974115c-2970-49e7-fa8f-7d4b0cb0ad4c"
      },
      "outputs": [
        {
          "output_type": "stream",
          "name": "stdout",
          "text": [
            ". Sıcak soğuk oyununa hoşgeldiniz. \n",
            " Sayılar 0 ile 1000 arasında olmalıdır\n",
            "**Sayı giriniz : 1\n",
            "TESTPURPOSE  user:  1  random:  14\n",
            "* AZ KALDI, ARTIR *\n",
            "Hak:  4\n",
            " \n",
            "**Sayı giriniz : 14\n",
            "TESTPURPOSE  user:  14  random:  14\n",
            "*** TEBRİKLER, DOĞRU CEVAP!!! ***\n",
            "Score :  100\n",
            "Hak:  3\n",
            " \n",
            "**Sayı giriniz : 1\n",
            "TESTPURPOSE  user:  1  random:  651\n",
            "* DAHA VAR, ARTIR *\n",
            "İPUCU :  639  -  663 aralığında sayı girin ;)\n",
            "Hak:  2\n",
            " \n",
            "**Sayı giriniz : 651\n",
            "TESTPURPOSE  user:  651  random:  651\n",
            "*** TEBRİKLER, DOĞRU CEVAP!!! ***\n",
            "Score :  200\n",
            "Hak:  1\n",
            " \n",
            "**Sayı giriniz : 439\n",
            "TESTPURPOSE  user:  439  random:  332\n",
            "* DAHA VAR, AZALT *\n",
            "İPUCU :  321  -  340 aralığında sayı girin ;)\n",
            "Hak:  0\n",
            " \n",
            "Cevap :  332  Oyun bitti, Toplam puan :  200\n"
          ]
        }
      ],
      "source": [
        "\n",
        "import random \n",
        "\n",
        "hak=5 # ? \n",
        "t_or_f=True \n",
        "print(\". Sıcak soğuk oyununa hoşgeldiniz. \\n Sayılar 0 ile 1000 arasında olmalıdır\")\n",
        "score=0\n",
        "\n",
        "while t_or_f==True:\n",
        "  random_num=random.randint(0,1000)\n",
        "\n",
        "\n",
        "  if hak>0:\n",
        "\n",
        "    while hak>0:\n",
        "      user_num = (input(\"**Sayı giriniz : \"))\n",
        "      hak-=1\n",
        "\n",
        "      try:\n",
        "          user_num = int(user_num)\n",
        "          fark=(random_num-user_num)\n",
        "          #print(\"TESTPURPOSE  fark : \",fark) # TESTPURPOSE \n",
        "      except ValueError:\n",
        "          print(\"Girdiniz int formatında değil!\")\n",
        "      \n",
        "      print(\"TESTPURPOSE  user: \",user_num,\" random: \",random_num) # TESTPURPOSE\n",
        "      clue=random.randint(8,20)\n",
        "      clue2=random.randint(8,20)\n",
        "      if fark>0:\n",
        "        if 0<fark<=5:\n",
        "          print(\"* AZICIK ÇIK *\")   \n",
        "        elif 5<fark<=20:\n",
        "          print(\"* AZ KALDI, ARTIR *\")  \n",
        "        elif fark>20:\n",
        "          print(\"* DAHA VAR, ARTIR *\")\n",
        "          print(\"İPUCU : \", random_num-clue,\" - \", random_num+clue2,\"aralığında sayı girin ;)\")\n",
        "        else:\n",
        "          print(\"hata 14\")\n",
        "\n",
        "      elif fark<0:\n",
        "        if -5<=fark<0:\n",
        "          print(\"* AZICIK İN *\")   \n",
        "        elif -20<=fark<-5:\n",
        "          print(\"* AZ KALDI, AZALT *\")  \n",
        "        elif fark<-20:\n",
        "          print(\"* DAHA VAR, AZALT *\")\n",
        "          print(\"İPUCU : \", random_num-clue,\" - \", random_num+clue2,\"aralığında sayı girin ;)\")\n",
        "        else:\n",
        "          print(\"hata 15\")\n",
        "\n",
        "       \n",
        "\n",
        "      elif fark==0:\n",
        "        print(\"*** TEBRİKLER, DOĞRU CEVAP!!! ***\")\n",
        "        score+=100\n",
        "        print(\"Score : \",score)\n",
        "        print(\"Hak: \",hak,end=\"\\n \\n\")\n",
        "        break\n",
        "\n",
        "      else:\n",
        "        print(\"hata 16\")\n",
        "\n",
        "      print(\"Hak: \",hak, end=\"\\n \\n\")\n",
        "      last_random_num=random_num\n",
        "  else: #hak kalmadıysa\n",
        "    t_or_f=False\n",
        "    print(\"Cevap : \",last_random_num, \" Oyun bitti, Toplam puan : \",score)\n",
        "    \n",
        "    break"
      ]
    }
  ]
}