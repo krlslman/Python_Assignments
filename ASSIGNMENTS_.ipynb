{
  "nbformat": 4,
  "nbformat_minor": 0,
  "metadata": {
    "colab": {
      "name": "ASSIGNMENTS.ipynb",
      "provenance": [],
      "collapsed_sections": [],
      "authorship_tag": "ABX9TyP+h9kaqsUF3H5oH5ffqz0n",
      "include_colab_link": true
    },
    "kernelspec": {
      "name": "python3",
      "display_name": "Python 3"
    },
    "language_info": {
      "name": "python"
    }
  },
  "cells": [
    {
      "cell_type": "markdown",
      "metadata": {
        "id": "view-in-github",
        "colab_type": "text"
      },
      "source": [
        "<a href=\"https://colab.research.google.com/github/krlslman/Python_Assignments/blob/main/ASSIGNMENTS_.ipynb\" target=\"_parent\"><img src=\"https://colab.research.google.com/assets/colab-badge.svg\" alt=\"Open In Colab\"/></a>"
      ]
    },
    {
      "cell_type": "code",
      "execution_count": null,
      "metadata": {
        "id": "gFT6cS9rVs5U"
      },
      "outputs": [],
      "source": [
        ""
      ]
    },
    {
      "cell_type": "markdown",
      "source": [
        "# 18.01.2021\n",
        "\n",
        "**Practice 1: Write a pseudocode that reads two numbers and multiplies them together and print out their product:**\n",
        "\n",
        "INPUT number1 and number2\n",
        "\n",
        "multiply = number1 * number2\n",
        "\n",
        "PRINT multiply"
      ],
      "metadata": {
        "id": "34XTjf4IV2ee"
      }
    },
    {
      "cell_type": "markdown",
      "source": [
        "**Practice 2: Write a pseudocode that tells a user that the number they entered is not a 5 or a 6.**\n",
        "\n",
        "INPUT number1\n",
        "\n",
        "IF number1 = 5\n",
        "\n",
        "PRINT   “your number is 5”\n",
        "\n",
        "ELSE IF number1 = 6\n",
        "\n",
        "PRINT “your number is 6”\n",
        "\n",
        "ELSE\n",
        "\n",
        "PRINT “Y our number is not 5 or 6\""
      ],
      "metadata": {
        "id": "VjDnFAA7WBOQ"
      }
    },
    {
      "cell_type": "markdown",
      "source": [
        "**Practice 3: Write a pseudocode to print all multiples of 5 between 0 and 100 (including both 0 and 100).**\n",
        "\n",
        "SET i=0\n",
        "\n",
        "For i = 0 To 100\n",
        "\n",
        "i *=5\n",
        "\n",
        "Next i\n",
        "\n",
        "PRINT i"
      ],
      "metadata": {
        "id": "7RebY6PcWZf2"
      }
    },
    {
      "cell_type": "markdown",
      "source": [
        "#26.01.2022\n",
        "**Problem : If you had deposited a coin on the cryptocurrency exchange that brought 7% fixed profit daily for a week, how much would your $ 1000 reach at the end of the 7th day?**"
      ],
      "metadata": {
        "id": "xBV0iQ9lW2ry"
      }
    },
    {
      "cell_type": "code",
      "source": [
        "print(\"WELCOME to Criptocurrency Profit Calculator v.0.0.0.0.0.1 :) \\n Type '1' if you want to\", end=\" \")\n",
        "print(\"continue with calculation 1000$ for 7 days with a 7% of fixed daily profit ratio\", end=\"\\n\")\n",
        "print(\" Type '0' if you want to change the parameters \\n\")\n",
        "start_answer=int(input(\"(1/0 ?) : \"))\n",
        "if start_answer == 1:\n",
        "  amount=1000\n",
        "  ratio=0.07\n",
        "  day=7\n",
        "  i=1\n",
        "  for i in range(1,8):\n",
        "    amount=amount+(amount*ratio)\n",
        "    amount=round(amount, 2)\n",
        "    print(\"Total money at day \",i,\" : \", amount)\n",
        "    i+=1\n",
        "else:\n",
        "  amount=float(input(\"Enter the amount of money ($) : \"))\n",
        "  ratio=float(input(\"Enter the fixed daily profit ratio (0.XX): \"))\n",
        "  day=int(input(\"Enter the duration of your investment (in days) : \"))\n",
        "  i=1\n",
        "  for i in range(1,day+1):\n",
        "    amount=amount+(amount*ratio)\n",
        "    amount=round(amount, 2)\n",
        "    print(\"Total money at day \",i,\" : \", amount)\n",
        "    i+=1"
      ],
      "metadata": {
        "id": "tSQEn1mmW91U",
        "colab": {
          "base_uri": "https://localhost:8080/"
        },
        "outputId": "8afced21-3129-49f5-f79c-d6527db04de3"
      },
      "execution_count": null,
      "outputs": [
        {
          "output_type": "stream",
          "name": "stdout",
          "text": [
            "WELCOME to Criptocurrency Profit Calculator v.0.0.0.0.0.1 :) \n",
            " Type '1' if you want to continue with calculation 1000$ for 7 days with a 7% of fixed daily profit ratio\n",
            " Type '0' if you want to change the parameters \n",
            "\n",
            "(1/0 ?) : 1\n",
            "Total money at day  1  :  1070.0\n",
            "Total money at day  2  :  1144.9\n",
            "Total money at day  3  :  1225.04\n",
            "Total money at day  4  :  1310.79\n",
            "Total money at day  5  :  1402.55\n",
            "Total money at day  6  :  1500.73\n",
            "Total money at day  7  :  1605.78\n"
          ]
        }
      ]
    }
  ]
}