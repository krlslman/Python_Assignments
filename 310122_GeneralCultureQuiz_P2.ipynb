{
  "nbformat": 4,
  "nbformat_minor": 0,
  "metadata": {
    "colab": {
      "name": "310122_GeneralCultureQuiz_P2.ipynb",
      "provenance": [],
      "collapsed_sections": []
    },
    "kernelspec": {
      "name": "python3",
      "display_name": "Python 3"
    },
    "language_info": {
      "name": "python"
    }
  },
  "cells": [
    {
      "cell_type": "code",
      "execution_count": null,
      "metadata": {
        "id": "Rx-hxAxrSFb6"
      },
      "outputs": [],
      "source": [
        "while True:\n",
        "    \n",
        "    next = 0\n",
        "    score=0\n",
        "    print(\"QUESTION 1\")\n",
        "    q1 = str(input(\"How water is written scientificially ? \")).lower()\n",
        "    if q1 == \"h2o\" :\n",
        "        score +=25\n",
        "        print('+25!  Total Score: ', score,\"\\n\\n\")\n",
        "    else:\n",
        "        score-=10\n",
        "        print('-10!  Total Score: ', score,\"\\n\\n\")\n",
        "    \n",
        "    \n",
        "    print(\"QUESTION 2\\n\\n A) Imagine Dragons \\tB) The Beatles \\tC) Gun's N' Roses\",end='\\n')\n",
        "    q2 = str(input(\"Choose from above. John Lennon is one of the four sacred members of ? \")).lower()\n",
        "    if q2 == 'b':\n",
        "        score +=25\n",
        "        print('+25!  Total Score: ', score,\"\\n\\n\")\n",
        "    else:\n",
        "        score-=10\n",
        "        print('-10!  Total Score: ', score,\"\\n\\n\")\n",
        "        \n",
        "        \n",
        "    print(\"QUESTION 3\")\n",
        "    q3 = str(input(\"________ is the basic unit of all living things ? \")).lower()\n",
        "    if q3 == 'cell':\n",
        "        score +=25\n",
        "        print('+25!  Total Score: ', score,\"\\n\\n\")\n",
        "    else:\n",
        "        score-=10\n",
        "        print('-10!  Total Score: ', score,\"\\n\\n\")\n",
        "        \n",
        "        \n",
        "    print(\"QUESTION 4\")\n",
        "    q4 = str(input(\"The square root of 81 is ? \" )).lower()\n",
        "    if q4 == '9':\n",
        "        score +=25\n",
        "        print('+25!  Total Score: ', score,\"\\n\\n\")\n",
        "    else:\n",
        "        score-=10\n",
        "        print('-10!  Total Score: ', score,\"\\n\\n\")\n",
        "        \n",
        "        \n",
        "    print(\"QUESTION 5\\n A) Foreshadowing \\tB) Foreshoring \\tC) Foreseen\")\n",
        "    q5 = str(input(\"Choose from above. The indication of any future event is known as ? \" )).lower()\n",
        "    if q5 == 'a':\n",
        "        score +=25\n",
        "        print('+25!  Total Score: ', score,\"\\n\\n\")\n",
        "    else:\n",
        "        score-=10\n",
        "        print('-10!  Total Score: ', score,\"\\n\\n\")\n",
        "    \n",
        "    again = str(input(\"Do you want to take the quiz again?  (yes / no)  : \")).lower()\n",
        "    if again == 'no':\n",
        "        break\n",
        "            \n",
        "        \n",
        "        \n",
        "        "
      ]
    }
  ]
}
